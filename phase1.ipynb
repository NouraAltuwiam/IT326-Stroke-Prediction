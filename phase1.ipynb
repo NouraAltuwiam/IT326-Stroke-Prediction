{
  "nbformat": 4,
  "nbformat_minor": 0,
  "metadata": {
    "colab": {
      "provenance": [],
      "authorship_tag": "ABX9TyMchnwLh0CURQWF4ZWZsEzm",
      "include_colab_link": true
    },
    "kernelspec": {
      "name": "python3",
      "display_name": "Python 3"
    },
    "language_info": {
      "name": "python"
    }
  },
  "cells": [
    {
      "cell_type": "markdown",
      "metadata": {
        "id": "view-in-github",
        "colab_type": "text"
      },
      "source": [
        "<a href=\"https://colab.research.google.com/github/NouraAltuwiam/IT326-Stroke-Prediction/blob/main/phase1.ipynb\" target=\"_parent\"><img src=\"https://colab.research.google.com/assets/colab-badge.svg\" alt=\"Open In Colab\"/></a>"
      ]
    },
    {
      "cell_type": "code",
      "execution_count": null,
      "metadata": {
        "id": "y35Yi_0IidBC"
      },
      "outputs": [],
      "source": []
    },
    {
      "cell_type": "markdown",
      "source": [
        "\n",
        "# Project Goal\n",
        "The main goal of this project is to predict whether a patient is likely to experience a stroke based on health-related attributes such as age, hypertension, heart disease, marital status, work type, residence type, average glucose level, BMI, and smoking status.\n",
        "\n",
        "In our project we will use two data mining tasks wich is classification , where the target variable is the stroke attribute (binary: 0 = no stroke, 1 = stroke). The classification model will be trained to be able to classify between patients who are at risk of stroke and those who are not, using the mentioned attributes as predictive features.\n",
        "\n",
        "In addition, the dataset will also be used for a clustering task, where patients are grouped into clusters based on similar health characteristics (e.g., age, hypertension, heart disease, glucose level, and BMI). These clusters will help discover hidden patterns and can be further utilized to improve prediction and provide insights into patient health profiles.\n",
        "\n"
      ],
      "metadata": {
        "id": "I1agvxmYjp3H"
      }
    },
    {
      "cell_type": "markdown",
      "source": [
        "# Data Set Discription\n",
        "- Number of instances (rows): 5,111  \n",
        "- Number of attributes (columns): 12  \n",
        " 1) id: unique identifier--Nomnal\n",
        "2) gender: \"Male\", \"Female\" --Binary\n",
        "3) age: age of the patient-- Numric\n",
        "4) hypertension: 0 if the patient doesn't have hypertension, 1 if the patient has hypertension-- Binary\n",
        "5) heart_disease: 0 if the patient doesn't have any heart diseases, 1 if the patient has a heart disease-- Binary\n",
        "6) ever_married: \"No\" or \"Yes\"--Baniry\n",
        "7) work_type: \"children\", \"Govt_jov\", \"Never_worked\", \"Private\" or \"Self-employed\"--Nominal\n",
        "8) Residence_type: \"Rural\" or \"Urban\"--Baniry\n",
        "9) avg_glucose_level: average glucose level in blood-- Numric\n",
        "10) bmi: body mass index-- Numric\n",
        "11) smoking_status: \"formerly smoked\", \"never smoked\", \"smokes\" or \"Unknown\"--Nominal\n",
        "12) (Class Label)stroke--Baniry  : 1 if the patient had a stroke or 0 if not\n",
        "  - Values:  \n",
        "    - 0 → No Stroke (4861 records)  \n",
        "    - 1 → Stroke (249 records)  \n"
      ],
      "metadata": {
        "id": "B_qqIU99kxPT"
      }
    },
    {
      "cell_type": "markdown",
      "source": [
        "# Data Source\n",
        "- Source: Kaggle  \n",
        "- Dataset: [Stroke Prediction Dataset](https://www.kaggle.com/datasets/fedesoriano/stroke-prediction-dataset)  \n",
        "- Format: CSV file, compatible with Python (Pandas)."
      ],
      "metadata": {
        "id": "yvNZnqJ1kNot"
      }
    },
    {
      "cell_type": "markdown",
      "source": [
        "# Sample Of Raw Data"
      ],
      "metadata": {
        "id": "3uj7Spwrng0P"
      }
    },
    {
      "cell_type": "code",
      "source": [
        "import pandas as pd\n",
        "\n",
        "df = pd.read_csv(\"Raw_DataSet.csv\")\n",
        "\n",
        "print(\"First 10 records:\")\n",
        "print(df.head(10))\n",
        "\n",
        "print(\"\\nDataset Info:\")\n",
        "print(df.info())\n",
        "\n"
      ],
      "metadata": {
        "colab": {
          "base_uri": "https://localhost:8080/"
        },
        "id": "E520N6gXsh-b",
        "outputId": "234e2c8d-9d9a-450e-b60d-1dadc92f6985"
      },
      "execution_count": 7,
      "outputs": [
        {
          "output_type": "stream",
          "name": "stdout",
          "text": [
            "First 10 records:\n",
            "      id  gender   age  hypertension  heart_disease ever_married  \\\n",
            "0   9046    Male  67.0             0              1          Yes   \n",
            "1  51676  Female  61.0             0              0          Yes   \n",
            "2  31112    Male  80.0             0              1          Yes   \n",
            "3  60182  Female  49.0             0              0          Yes   \n",
            "4   1665  Female  79.0             1              0          Yes   \n",
            "5  56669    Male  81.0             0              0          Yes   \n",
            "6  53882    Male  74.0             1              1          Yes   \n",
            "7  10434  Female  69.0             0              0           No   \n",
            "8  27419  Female  59.0             0              0          Yes   \n",
            "9  60491  Female  78.0             0              0          Yes   \n",
            "\n",
            "       work_type Residence_type  avg_glucose_level   bmi   smoking_status  \\\n",
            "0        Private          Urban             228.69  36.6  formerly smoked   \n",
            "1  Self-employed          Rural             202.21   NaN     never smoked   \n",
            "2        Private          Rural             105.92  32.5     never smoked   \n",
            "3        Private          Urban             171.23  34.4           smokes   \n",
            "4  Self-employed          Rural             174.12  24.0     never smoked   \n",
            "5        Private          Urban             186.21  29.0  formerly smoked   \n",
            "6        Private          Rural              70.09  27.4     never smoked   \n",
            "7        Private          Urban              94.39  22.8     never smoked   \n",
            "8        Private          Rural              76.15   NaN          Unknown   \n",
            "9        Private          Urban              58.57  24.2          Unknown   \n",
            "\n",
            "   stroke  \n",
            "0       1  \n",
            "1       1  \n",
            "2       1  \n",
            "3       1  \n",
            "4       1  \n",
            "5       1  \n",
            "6       1  \n",
            "7       1  \n",
            "8       1  \n",
            "9       1  \n",
            "\n",
            "Dataset Info:\n",
            "<class 'pandas.core.frame.DataFrame'>\n",
            "RangeIndex: 5110 entries, 0 to 5109\n",
            "Data columns (total 12 columns):\n",
            " #   Column             Non-Null Count  Dtype  \n",
            "---  ------             --------------  -----  \n",
            " 0   id                 5110 non-null   int64  \n",
            " 1   gender             5110 non-null   object \n",
            " 2   age                5110 non-null   float64\n",
            " 3   hypertension       5110 non-null   int64  \n",
            " 4   heart_disease      5110 non-null   int64  \n",
            " 5   ever_married       5110 non-null   object \n",
            " 6   work_type          5110 non-null   object \n",
            " 7   Residence_type     5110 non-null   object \n",
            " 8   avg_glucose_level  5110 non-null   float64\n",
            " 9   bmi                4909 non-null   float64\n",
            " 10  smoking_status     5110 non-null   object \n",
            " 11  stroke             5110 non-null   int64  \n",
            "dtypes: float64(3), int64(4), object(5)\n",
            "memory usage: 479.2+ KB\n",
            "None\n"
          ]
        }
      ]
    },
    {
      "cell_type": "markdown",
      "source": [],
      "metadata": {
        "id": "m4lXktYLjV_g"
      }
    }
  ]
}